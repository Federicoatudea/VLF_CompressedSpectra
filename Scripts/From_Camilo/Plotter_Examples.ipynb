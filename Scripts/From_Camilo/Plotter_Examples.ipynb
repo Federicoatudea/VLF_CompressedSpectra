{
 "cells": [
  {
   "cell_type": "code",
   "execution_count": 1,
   "metadata": {},
   "outputs": [],
   "source": [
    "#include \"TFile.h\"\n",
    "#include \"TTree.h\"\n",
    "#include \"TBrowser.h\"\n",
    "#include \"TH2.h\"\n",
    "#include \"TRandom.h\"\n",
    "#include \"TCanvas.h\"\n",
    "#include \"TMath.h\"\n",
    "#include \"TROOT.h\"\n",
    "#include <string>\n",
    "#include <iostream>\n",
    "#include \"TTreeReader.h\"\n",
    "\n",
    "//#include \"../test/Event.h\""
   ]
  },
  {
   "cell_type": "code",
   "execution_count": 2,
   "metadata": {},
   "outputs": [],
   "source": [
    "//TDRStyle\n",
    "gSystem->Load(\"style-CMSTDR.C\");"
   ]
  },
  {
   "cell_type": "code",
   "execution_count": 3,
   "metadata": {},
   "outputs": [],
   "source": [
    "int CreateRandomTree(std::string name)\n",
    "{\n",
    "    gROOT->Reset();\n",
    "    /*\n",
    "    Create Ttrees for tries \n",
    "    */\n",
    "    std::string Name = name+\".root\";\n",
    "    //convierto en cadena de caracteres constante (es lo que recibe la función)\n",
    "    const char * constName = Name.c_str();\n",
    "    //const char * constname = name.c_str();\n",
    "    TFile hfile(constName,\"RECREATE\");\n",
    "    //The Ttrees must to have the same name \"tree\" in this case, \"Delphes\"\n",
    "    TTree *T = new TTree(\"tree\",\"test Ttree\");\n",
    "    Double_t px,py,pz;\n",
    "    UShort_t i;\n",
    "    T->Branch(\"px\",&px,\"px/D\");\n",
    "    T->Branch(\"py\",&py,\"py/D\");\n",
    "    T->Branch(\"pz\",&pz,\"pz/D\");\n",
    "    T->Branch(\"i\",&i,\"i/s\");\n",
    "    for (i = 0; i < 65000; i++) {\n",
    "        px = (Double_t) gRandom->Binomial(500,0.05);\n",
    "        pz = (Double_t) gRandom->Landau(-10,100);\n",
    "        py = (Double_t) gRandom->Gaus(0,1000);\n",
    "        T->Fill();\n",
    "    }\n",
    "\n",
    "    //T->Print();\n",
    "    hfile.Write();\n",
    "    hfile.Close();\n",
    "   return 0;\n",
    "}"
   ]
  },
  {
   "cell_type": "code",
   "execution_count": 4,
   "metadata": {},
   "outputs": [],
   "source": [
    "//CreateRandomTree(\"tree1\");\n",
    "//CreateRandomTree(\"tree2\");"
   ]
  },
  {
   "cell_type": "code",
   "execution_count": 5,
   "metadata": {},
   "outputs": [],
   "source": [
    "TChain * chain1 = new TChain(\"tree\");\n",
    "TChain * chain2 = new TChain(\"tree\");\n",
    "chain1->Add(\"tree1.root\");\n",
    "chain1->Add(\"tree2.root\");\n",
    "chain2->Add(\"tree3.root\");\n",
    "chain2->Add(\"tree4.root\");"
   ]
  },
  {
   "cell_type": "code",
   "execution_count": 6,
   "metadata": {},
   "outputs": [],
   "source": [
    "//chain1->Print()"
   ]
  },
  {
   "cell_type": "code",
   "execution_count": 7,
   "metadata": {},
   "outputs": [],
   "source": [
    "//tree->Show(120000)"
   ]
  },
  {
   "cell_type": "code",
   "execution_count": 8,
   "metadata": {},
   "outputs": [],
   "source": [
    "//chain1->GetEntries()"
   ]
  },
  {
   "cell_type": "code",
   "execution_count": 9,
   "metadata": {},
   "outputs": [],
   "source": [
    "//   Specify address where to read the event object\n",
    "//   In the program writing the files, the event was stored in a branch called \"py,px,pz, and i\"\n",
    "Double_t py;\n",
    "Double_t px;\n",
    "Double_t pz;\n",
    "UShort_t i;"
   ]
  },
  {
   "cell_type": "code",
   "execution_count": 10,
   "metadata": {},
   "outputs": [],
   "source": [
    "chain1->SetBranchAddress(\"px\", &px);\n",
    "chain1->SetBranchAddress(\"py\", &py);\n",
    "chain1->SetBranchAddress(\"pz\", &pz);\n",
    "chain1->SetBranchAddress(\"i\", &i);"
   ]
  },
  {
   "cell_type": "code",
   "execution_count": 11,
   "metadata": {},
   "outputs": [],
   "source": [
    "//chain1->SetBranchStatus(\"*\", 0); /*Todas las ramas out*/\n",
    "//chain1->SetBranchStatus(\"px\", 1);   "
   ]
  },
  {
   "cell_type": "code",
   "execution_count": 12,
   "metadata": {},
   "outputs": [],
   "source": [
    "//   Create an histogram\n",
    "TH1F *Pxst = new TH1F();\n",
    "Pxst->SetName(\"Px\");\n",
    "Pxst->SetTitle(\"Histograma de Px\");\n",
    "Pxst->SetFillColor(1);\n",
    "\n",
    "TH1F *Pyst = new TH1F();\n",
    "Pxst->SetName(\"Py\");\n",
    "Pxst->SetTitle(\"Histograma de Py\");\n",
    "Pxst->SetFillColor(2);\n",
    "\n",
    "TH1F *Pzst = new TH1F();\n",
    "Pxst->SetName(\"Pz\");\n",
    "Pxst->SetTitle(\"Histograma de Pz\");\n",
    "Pxst->SetFillColor(4);"
   ]
  },
  {
   "cell_type": "code",
   "execution_count": 13,
   "metadata": {},
   "outputs": [],
   "source": [
    "Int_t n =chain1->GetEntries();\n",
    "for (Int_t j=0;j<n;j++) {\n",
    "    chain1->GetEvent(j);              //read complete accepted event in memory\n",
    "    Pxst->Fill(px);              //Fill histogram with \n",
    "    Pyst->Fill(py);\n",
    "    Pzst->Fill(pz);    \n",
    "}"
   ]
  },
  {
   "cell_type": "code",
   "execution_count": 21,
   "metadata": {},
   "outputs": [
    {
     "name": "stderr",
     "output_type": "stream",
     "text": [
      "input_line_110:2:11: error: redefinition of 'hs'\n",
      " THStack *hs = new THStack();\n",
      "          ^\n",
      "input_line_76:2:11: note: previous definition is here\n",
      " THStack *hs = new THStack(\"hs\",\"Stacked 1D histograms\");\n",
      "          ^\n"
     ]
    }
   ],
   "source": [
    "THStack *hs = new THStack();"
   ]
  },
  {
   "cell_type": "code",
   "execution_count": 15,
   "metadata": {},
   "outputs": [],
   "source": [
    "hs->Add(Pxst);\n",
    "hs->Add(Pyst);\n",
    "hs->Add(Pzst);"
   ]
  },
  {
   "cell_type": "code",
   "execution_count": 16,
   "metadata": {},
   "outputs": [],
   "source": [
    "TCanvas *cst = new TCanvas();\n",
    "cst->Divide(2,2);"
   ]
  },
  {
   "cell_type": "code",
   "execution_count": 17,
   "metadata": {},
   "outputs": [],
   "source": [
    "cst->cd(1);\n",
    "hs->Draw();"
   ]
  },
  {
   "cell_type": "code",
   "execution_count": 18,
   "metadata": {},
   "outputs": [],
   "source": [
    "cst->cd(2);\n",
    "gPad->SetGrid();\n",
    "hs->Draw(\"nostack,e1p\");"
   ]
  },
  {
   "cell_type": "code",
   "execution_count": 19,
   "metadata": {},
   "outputs": [],
   "source": [
    "cst->cd(3);\n",
    "gPad->SetFrameFillColor(17);\n",
    "gPad->SetTheta(3.77);\n",
    "gPad->SetPhi(2.9);\n",
    "hs->Draw(\"lego1\");"
   ]
  },
  {
   "cell_type": "code",
   "execution_count": 20,
   "metadata": {},
   "outputs": [
    {
     "data": {
      "image/png": "[encoded data removed]",
      "text/plain": [
       "<IPython.core.display.Image object>"
      ]
     },
     "metadata": {},
     "output_type": "display_data"
    }
   ],
   "source": [
    "gROOT->GetListOfCanvases()->Draw()"
   ]
  },
  {
   "cell_type": "code",
   "execution_count": null,
   "metadata": {},
   "outputs": [],
   "source": []
  }
 ],
 "metadata": {
  "kernelspec": {
   "display_name": "ROOT C++",
   "language": "c++",
   "name": "root"
  },
  "language_info": {
   "codemirror_mode": "text/x-c++src",
   "file_extension": ".C",
   "mimetype": " text/x-c++src",
   "name": "c++"
  }
 },
 "nbformat": 4,
 "nbformat_minor": 2
}
