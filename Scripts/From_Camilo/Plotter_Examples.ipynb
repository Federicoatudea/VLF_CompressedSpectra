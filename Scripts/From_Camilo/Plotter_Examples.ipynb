{
 "cells": [
  {
   "cell_type": "code",
   "execution_count": null,
   "metadata": {
    "collapsed": true
   },
   "outputs": [],
   "source": [
    "#include \"TFile.h\"\n",
    "#include \"TTree.h\"\n",
    "#include \"TBrowser.h\"\n",
    "#include \"TH2.h\"\n",
    "#include \"TRandom.h\"\n",
    "#include \"TCanvas.h\"\n",
    "#include \"TMath.h\"\n",
    "#include \"TROOT.h\"\n",
    "#include <string>\n",
    "#include <iostream>\n",
    "#include \"TTreeReader.h\"\n",
    "\n",
    "//#include \"../test/Event.h\""
   ]
  },
  {
   "cell_type": "code",
   "execution_count": null,
   "metadata": {
    "collapsed": true
   },
   "outputs": [],
   "source": [
    "//TDRStyle\n",
    "gSystem->Load(\"style-CMSTDR.C\");"
   ]
  },
  {
   "cell_type": "code",
   "execution_count": null,
   "metadata": {
    "collapsed": true
   },
   "outputs": [],
   "source": [
    "int CreateRandomTree(std::string name)\n",
    "{\n",
    "    gROOT->Reset();\n",
    "    /*\n",
    "    Create Ttrees for tries \n",
    "    */\n",
    "    std::string Name = name+\".root\";\n",
    "    //convierto en cadena de caracteres constante (es lo que recibe la función)\n",
    "    const char * constName = Name.c_str();\n",
    "    //const char * constname = name.c_str();\n",
    "    TFile hfile(constName,\"RECREATE\");\n",
    "    //The Ttrees must to have the same name \"tree\" in this case, \"Delphes\"\n",
    "    TTree *T = new TTree(\"tree\",\"test Ttree\");\n",
    "    Double_t px,py,pz;\n",
    "    UShort_t i;\n",
    "    T->Branch(\"px\",&px,\"px/D\");\n",
    "    T->Branch(\"py\",&py,\"py/D\");\n",
    "    T->Branch(\"pz\",&pz,\"pz/D\");\n",
    "    T->Branch(\"i\",&i,\"i/s\");\n",
    "    for (i = 0; i < 65000; i++) {\n",
    "        px = (Double_t) gRandom->Binomial(500,0.05);\n",
    "        pz = (Double_t) gRandom->Landau(-10,100);\n",
    "        py = (Double_t) gRandom->Gaus(0,1000);\n",
    "        T->Fill();\n",
    "    }\n",
    "\n",
    "    //T->Print();\n",
    "    hfile.Write();\n",
    "    hfile.Close();\n",
    "   return 0;\n",
    "}"
   ]
  },
  {
   "cell_type": "code",
   "execution_count": null,
   "metadata": {
    "collapsed": true
   },
   "outputs": [],
   "source": [
    "//CreateRandomTree(\"tree1\");\n",
    "//CreateRandomTree(\"tree2\");"
   ]
  },
  {
   "cell_type": "code",
   "execution_count": null,
   "metadata": {
    "collapsed": true
   },
   "outputs": [],
   "source": [
    "TChain * chain1 = new TChain(\"tree\");\n",
    "TChain * chain2 = new TChain(\"tree\");\n",
    "chain1->Add(\"tree1.root\");\n",
    "chain1->Add(\"tree2.root\");\n",
    "chain2->Add(\"tree3.root\");\n",
    "chain2->Add(\"tree4.root\");"
   ]
  },
  {
   "cell_type": "code",
   "execution_count": null,
   "metadata": {
    "collapsed": true
   },
   "outputs": [],
   "source": [
    "//chain1->Print()"
   ]
  },
  {
   "cell_type": "code",
   "execution_count": null,
   "metadata": {
    "collapsed": true
   },
   "outputs": [],
   "source": [
    "//tree->Show(120000)"
   ]
  },
  {
   "cell_type": "code",
   "execution_count": null,
   "metadata": {
    "collapsed": true
   },
   "outputs": [],
   "source": [
    "//chain1->GetEntries()"
   ]
  },
  {
   "cell_type": "code",
   "execution_count": null,
   "metadata": {
    "collapsed": true
   },
   "outputs": [],
   "source": [
    "//   Specify address where to read the event object\n",
    "//   In the program writing the files, the event was stored in a branch called \"py,px,pz, and i\"\n",
    "Double_t py;\n",
    "Double_t px;\n",
    "Double_t pz;\n",
    "UShort_t i;"
   ]
  },
  {
   "cell_type": "code",
   "execution_count": null,
   "metadata": {
    "collapsed": true
   },
   "outputs": [],
   "source": [
    "chain1->SetBranchAddress(\"px\", &px);\n",
    "chain1->SetBranchAddress(\"py\", &py);\n",
    "chain1->SetBranchAddress(\"pz\", &pz);\n",
    "chain1->SetBranchAddress(\"i\", &i);"
   ]
  },
  {
   "cell_type": "code",
   "execution_count": null,
   "metadata": {
    "collapsed": true
   },
   "outputs": [],
   "source": [
    "//chain1->SetBranchStatus(\"*\", 0); /*Todas las ramas out*/\n",
    "//chain1->SetBranchStatus(\"px\", 1);   "
   ]
  },
  {
   "cell_type": "code",
   "execution_count": null,
   "metadata": {
    "collapsed": true
   },
   "outputs": [],
   "source": [
    "Max=60.0;\n",
    "Min=0.0;\n",
    "NBines=20;  "
   ]
  },
  {
   "cell_type": "code",
   "execution_count": null,
   "metadata": {
    "collapsed": true
   },
   "outputs": [],
   "source": [
    "//   Create an histogram\n",
    "TH1D *Pxst = new TH1D(\"Px\",\"Histograma de Px\",NBines,Min,Max);\n",
    "//Pxst->SetName(\"Px\");\n",
    "//Pxst->SetTitle(\"Histograma de Px\");\n",
    "Pxst->SetFillColor(1);\n",
    "\n",
    "TH1D *Pyst = new TH1D(\"Py\",\"Histograma_de_Py\",NBines,Min,Max);\n",
    "//Pxst->SetName(\"Py\");\n",
    "//Pxst->SetTitle(\"Histograma de Py\");\n",
    "Pxst->SetFillColor(33);\n",
    "\n",
    "TH1D *Pzst = new TH1D(\"Pz\",\"Histograma de Pz\",NBines,Min,Max);\n",
    "//Pxst->SetName(\"Pz\");\n",
    "//Pxst->SetTitle(\"Histograma de Pz\");\n",
    "Pxst->SetFillColor(99);"
   ]
  },
  {
   "cell_type": "code",
   "execution_count": null,
   "metadata": {
    "collapsed": true
   },
   "outputs": [],
   "source": [
    "Int_t n =chain1->GetEntries();\n",
    "for (Int_t j=0;j<n;j++) {\n",
    "    chain1->GetEvent(j);              //read complete accepted event in memory\n",
    "    Pxst->Fill(px);              //Fill histogram with \n",
    "    Pyst->Fill(py);\n",
    "    Pzst->Fill(pz);    \n",
    "}"
   ]
  },
  {
   "cell_type": "code",
   "execution_count": null,
   "metadata": {
    "collapsed": true
   },
   "outputs": [],
   "source": [
    "THStack *hs = new THStack();"
   ]
  },
  {
   "cell_type": "code",
   "execution_count": null,
   "metadata": {
    "collapsed": true
   },
   "outputs": [],
   "source": [
    "hs->Add(Pxst);\n",
    "hs->Add(Pyst);\n",
    "hs->Add(Pzst);"
   ]
  },
  {
   "cell_type": "code",
   "execution_count": null,
   "metadata": {
    "collapsed": true
   },
   "outputs": [],
   "source": [
    "TCanvas *cst = new TCanvas();\n",
    "cst->Divide(2,2);"
   ]
  },
  {
   "cell_type": "code",
   "execution_count": null,
   "metadata": {
    "collapsed": true
   },
   "outputs": [],
   "source": [
    "cst->cd(1);\n",
    "hs->Draw();"
   ]
  },
  {
   "cell_type": "code",
   "execution_count": null,
   "metadata": {
    "collapsed": true
   },
   "outputs": [],
   "source": [
    "cst->cd(2);\n",
    "gPad->SetGrid();\n",
    "hs->Draw(\"nostack,e1p\");"
   ]
  },
  {
   "cell_type": "code",
   "execution_count": null,
   "metadata": {
    "collapsed": true
   },
   "outputs": [],
   "source": [
    "cst->cd(3);\n",
    "gPad->SetFrameFillColor(17);\n",
    "gPad->SetTheta(3.77);\n",
    "gPad->SetPhi(2.9);\n",
    "hs->Draw(\"lego1\");"
   ]
  },
  {
   "cell_type": "code",
   "execution_count": null,
   "metadata": {},
   "outputs": [],
   "source": [
    "gROOT->GetListOfCanvases()->Draw()"
   ]
  },
  {
   "cell_type": "markdown",
   "metadata": {},
   "source": [
    "## Leer Un arbol sin saber espesificamente las ramas"
   ]
  },
  {
   "cell_type": "code",
   "execution_count": null,
   "metadata": {},
   "outputs": [],
   "source": [
    "auto Array=chain1->GetListOfBranches();\n",
    "ArrayEntries=Array->GetEntries();\n",
    "for ( int j=0 ; j<ArrayEntries ; j++ ){\n",
    "    \n",
    "    auto object = Array->At(j);\n",
    "    object->Print();\n",
    "    \n",
    "     \n",
    "}"
   ]
  },
  {
   "cell_type": "code",
   "execution_count": null,
   "metadata": {
    "collapsed": true
   },
   "outputs": [],
   "source": [
    "std::map<std::string,Double_t*> nmap;"
   ]
  },
  {
   "cell_type": "code",
   "execution_count": null,
   "metadata": {
    "collapsed": true
   },
   "outputs": [],
   "source": [
    "Double_t *d1=new Double_t[3];"
   ]
  },
  {
   "cell_type": "code",
   "execution_count": null,
   "metadata": {
    "collapsed": true
   },
   "outputs": [],
   "source": [
    "#include<TString.h>\n"
   ]
  },
  {
   "cell_type": "code",
   "execution_count": null,
   "metadata": {},
   "outputs": [],
   "source": [
    "nmap[\"d1\"]=d1;"
   ]
  },
  {
   "cell_type": "code",
   "execution_count": null,
   "metadata": {
    "collapsed": true
   },
   "outputs": [],
   "source": []
  }
 ],
 "metadata": {
  "kernelspec": {
   "display_name": "ROOT C++",
   "language": "c++",
   "name": "root"
  },
  "language_info": {
   "codemirror_mode": "text/x-c++src",
   "file_extension": ".C",
   "mimetype": " text/x-c++src",
   "name": "c++"
  }
 },
 "nbformat": 4,
 "nbformat_minor": 2
}
