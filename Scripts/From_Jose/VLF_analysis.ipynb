{
 "cells": [
  {
   "cell_type": "markdown",
   "metadata": {},
   "source": [
    "# VLF analysis\n",
    "<hr style=\"border-top-width: 4px; border-top-color: #34609b;\">"
   ]
  },
  {
   "cell_type": "markdown",
   "metadata": {},
   "source": [
    "First import the ROOT Python module."
   ]
  },
  {
   "cell_type": "code",
   "execution_count": null,
   "metadata": {
    "collapsed": true
   },
   "outputs": [],
   "source": [
    "from Generic import *"
   ]
  },
  {
   "cell_type": "code",
   "execution_count": null,
   "metadata": {
    "collapsed": true
   },
   "outputs": [],
   "source": [
    "ROOT.gROOT.ProcessLine(\"#include <math.h>\");\n",
    "ROOT.gSystem.Load(\"libDelphes\");\n",
    "ROOT.gROOT.Macro(\"rootphi.C\");"
   ]
  },
  {
   "cell_type": "markdown",
   "metadata": {},
   "source": [
    "Optional: activate the JavaScript visualisation to produce interactive plots."
   ]
  },
  {
   "cell_type": "code",
   "execution_count": null,
   "metadata": {
    "collapsed": true
   },
   "outputs": [],
   "source": [
    "%jsroot on"
   ]
  },
  {
   "cell_type": "markdown",
   "metadata": {},
   "source": [
    "Defining function to open sets of files in a single chain"
   ]
  },
  {
   "cell_type": "code",
   "execution_count": null,
   "metadata": {
    "collapsed": true
   },
   "outputs": [],
   "source": [
    "#The signal\n",
    "DTrees={};\n",
    "MainChain=ROOT.TChain(\"Delphes\");\n",
    "MainChain.Add(\"/eos/user/j/jruizalv/VLF_Samples/SSSFDM_150Deltam10.root\")\n",
    "DTrees['Signal']=MainChain;"
   ]
  },
  {
   "cell_type": "code",
   "execution_count": null,
   "metadata": {
    "collapsed": true
   },
   "outputs": [],
   "source": [
    "DTrees"
   ]
  },
  {
   "cell_type": "code",
   "execution_count": null,
   "metadata": {
    "collapsed": true
   },
   "outputs": [],
   "source": [
    "#The backgrounds\n",
    "Path1= \"/eos/cms/store/user/nvanegas/\"; \n",
    "#Path1= \"/eos/user/n/nvanegas/VLF_analysis/\"\n",
    "ListOfFolders = [\"BckgndSingleTop\",\"BckgndW+Jets\",\"BckgndWW\",\"BckgndWZ\"];\n",
    "Path2= \"tag_1_delphes_events*\";"
   ]
  },
  {
   "cell_type": "code",
   "execution_count": null,
   "metadata": {
    "collapsed": true
   },
   "outputs": [],
   "source": [
    "for Folder in ListOfFolders:\n",
    "    Path=\"root://eoscms.cern.ch/\"+Path1+Folder+\"/*.root\"\n",
    "    MainChain=ROOT.TChain(\"Delphes\");\n",
    "    MainChain.Add(Path)\n",
    "    DTrees[Folder]=MainChain;"
   ]
  },
  {
   "cell_type": "code",
   "execution_count": null,
   "metadata": {
    "collapsed": true
   },
   "outputs": [],
   "source": [
    "Trigger=\"(MissingET.MET>60.)&&(Jet[0].PT>60.)&&(Muon[0].PT>5.)\"\n",
    "Cut0=\"(Muon_size==1)\"\n",
    "\n",
    "FullCut=Trigger+\"&&\"+Cut0\n",
    "\n",
    "TIMEStr=time.strftime(\"%H_%M_%S_%d_%m_%y\")\n",
    "PDFNames=\"Plots_Wjets_Signal_150DM10_\"+TIMEStr\n",
    "print \"Plotting on:\", PDFNames\n",
    "HistFile= ROOT.TFile(PDFNames+\".root\", \"recreate\")\n",
    "\n",
    "HToExtract=[\"Jet_size\",\"Jet[0].PT\",\"Jet[1].PT\",\"Muon_size\",\"Muon[0].PT\",\"MissingET.MET\",\n",
    "            \"TMath::Sqrt(2*Muon[0].PT*MissingET.MET*(1-TMath::Cos(deltaPhi(MissingET.Phi,Muon[0].Phi))))\",#WE NEED TO INCLUDE MT DEFINITION\n",
    "            \"TMath::Abs(Jet[0].PT-MissingET.MET)/(Jet[0].PT+MissingET.MET)\",\n",
    "            \"TMath::Abs(ScalarHT.HT-MissingET.MET)/(ScalarHT.HT+MissingET.MET)\"]\n",
    "\n",
    "Binning=[\"(15,0,15)\",\"(100,0,1000)\",\"(50,0,500)\",\"(5,0,5)\",\"(50,0,100)\",\"(100,0,1000)\",\n",
    "         \"(100,0,500)\",\"(200,0,2)\",\"(200,0,2)\"]\n",
    "\n",
    "EntriesListWjets=[]\n",
    "EntriesListSignal=[]\n",
    "c = ROOT.TCanvas()\n",
    "for i in xrange(len(HToExtract)):\n",
    "    HistName=HToExtract[i].replace(\"(\",\"\").replace(\")\",\"\").replace(\"[\",\"\").replace(\"]\",\"\").replace(\":\",\"\").replace(\".\",\"\").replace(\"-\",\"m\").replace(\"+\",\"p\").replace(\" \",\"_\").replace(\"&&\",\"_and_\").replace(\"&\",\"_and_\").replace(\"*\",\"_\").replace(\">\",\"g\").replace(\"<\",\"l\").replace(\",\",\"l\").replace(\"/\",\"d\")\n",
    "    print \"Extracting \"+HToExtract[i]\n",
    "    #Extracting Wjets histogram\n",
    "    HistNameWjets=HistName+\"_Wjets\"\n",
    "    DTrees[\"BckgndW+Jets\"].Draw(HToExtract[i]+\" >> \"+HistNameWjets+Binning[i],FullCut)\n",
    "    TemHisto1=ROOT.gDirectory.Get(HistNameWjets)\n",
    "    EntriesListWjets.append(TemHisto1.GetEntries())\n",
    "    TemHisto1.Sumw2()\n",
    "    TemHisto1.Scale(1./TemHisto1.Integral())\n",
    "    TemHisto1.Write()\n",
    "    TemHisto1.Draw()\n",
    "    #del(TemHisto1)\n",
    "    #Extracting Signal histogram\n",
    "    HistNameSig=HistName+\"_Sig\"\n",
    "    DTrees[\"Signal\"].Draw(HToExtract[i]+\" >> \"+HistNameSig+Binning[i],FullCut)\n",
    "    TemHisto2=ROOT.gDirectory.Get(HistNameSig)\n",
    "    EntriesListSignal.append(TemHisto2.GetEntries())\n",
    "    TemHisto2.Sumw2()\n",
    "    TemHisto2.Scale(1./TemHisto2.Integral())\n",
    "    TemHisto2.Write()\n",
    "    TemHisto2.Draw(\"same\")\n",
    "    c.Draw()\n",
    "    print \"Wjets entries=\", EntriesListWjets[-1]\n",
    "    print \"Signal entries=\", EntriesListSignal[-1]\n",
    "    print \"-----------------------------------------\"\n",
    "    #del(TemHisto2)\n",
    "\n",
    "print \"Wjets cut flow:\", EntriesListWjets\n",
    "print \"Signal cut flow:\", EntriesListSignal\n",
    "\n",
    "HistFile.Close()"
   ]
  },
  {
   "cell_type": "markdown",
   "metadata": {},
   "source": [
    "Cuts optimization"
   ]
  },
  {
   "cell_type": "code",
   "execution_count": null,
   "metadata": {
    "collapsed": true
   },
   "outputs": [],
   "source": [
    "VariablesToCut=[['l',\"\",\"Muon[0].PT\",\"(500,0,500)\",FullCut],\n",
    "                ['l',\"\",\"TMath::Sqrt(2*Muon[0].PT*MissingET.MET*(1-TMath::Cos(deltaPhi(MissingET.Phi,Muon[0].Phi))))\",\"(500,0,500)\"\n",
    "                 ,FullCut+\"&&(Muon[0].PT<20)\"],\n",
    "                ['l',\"\",\"TMath::Abs(ScalarHT.HT-MissingET.MET)/(ScalarHT.HT+MissingET.MET)\",\"(200,0,2)\"\n",
    "                 ,FullCut+\"&&(Muon[0].PT<20)\"+\"&&(TMath::Sqrt(2*Muon[0].PT*MissingET.MET*(1-TMath::Cos(deltaPhi(MissingET.Phi,Muon[0].Phi))))<50)\"]\n",
    "               ]\n",
    "\n",
    "XSWjets=3091.5; # pb\n",
    "XSSig=0.100 #0.008599; # pb\n",
    "lumi=100 # fb-1\n",
    "ws=(lumi*XSSig*1000.)/SigChain.GetEntries()\n",
    "wb=(lumi*XSWjets*1000.)/WjetsChain.GetEntries()\n",
    "print \"Signal weight =\", ws\n",
    "print \"Signal events =\", SigChain.GetEntries()\n",
    "print \"Wjets weight = \", wb\n",
    "print \"Wjets events = \", WjetsChain.GetEntries()"
   ]
  },
  {
   "cell_type": "code",
   "execution_count": null,
   "metadata": {
    "collapsed": true
   },
   "outputs": [],
   "source": [
    "TIMEStr=time.strftime(\"%H_%M_%S_%d_%m_%y\")\n",
    "PDFNames=\"Variables_Efficiencies_WJets_DeltamM10_\"+TIMEStr\n",
    "print \"Plotting on:\", PDFNames\n",
    "\n",
    "XVariableAxis=[\"MET\",\n",
    "               \"p_{T}(j_{1})\",\n",
    "               \"p_{T}(j_{2})\",\n",
    "               \"M_{T}(MET,#mu)\",]\n",
    "XVariableName=[\"MET\",\n",
    "               \"PT1\",\n",
    "               \"PT2\",\n",
    "               \"MT MET MU\"]\n",
    "EffFile= ROOT.TFile(PDFNames+\".root\", \"recreate\")\n",
    "\n",
    "for i in xrange(len(VariablesToCut)):\n",
    "    CurCanvScan = rootnotes.canvas(\"MyPlot\", (600, 600))\n",
    "\n",
    "    #Constructing efficiency histograms\n",
    "    Var=i\n",
    "    SignalMETEffHisto = GetEffHisto(VariablesToCut[Var][0],\n",
    "                                VariablesToCut[Var][1],\n",
    "                                SigChain,\n",
    "                                \"Signal\",\n",
    "                                VariablesToCut[Var][2],\n",
    "                                VariablesToCut[Var][3],\n",
    "                                VariablesToCut[Var][4])\n",
    "\n",
    "    WjetsMETEffHisto = GetEffHisto(VariablesToCut[Var][0],\n",
    "                                VariablesToCut[Var][1],\n",
    "                                WjetsChain,\n",
    "                                \"Wjets\",\n",
    "                                VariablesToCut[Var][2],\n",
    "                                VariablesToCut[Var][3],\n",
    "                                VariablesToCut[Var][4])\n",
    "\n",
    "    Z1Histo,ZAsimovHisto, SHisto, BHisto, Z3Histo, Z4Histo = GetZHistos(VariablesToCut[Var][0],\n",
    "                                VariablesToCut[Var][1],\n",
    "                                SigChain, ws,\n",
    "                                WjetsChain, wb,\n",
    "                                VariablesToCut[Var][2],\n",
    "                                VariablesToCut[Var][3],\n",
    "                                VariablesToCut[Var][4])\n",
    "\n",
    "    METSoverWjets=SignalMETEffHisto.Clone(\"METSoverWjets\")\n",
    "    METSoverWjets.Sumw2(); METSoverWjets.Divide(WjetsMETEffHisto)\n",
    "    \n",
    "    #Histogram cosmetics\n",
    "    WjetsMETEffHisto.SetStats(ROOT.kFALSE)\n",
    "    WjetsMETEffHisto.SetLineStyle(7); SignalMETEffHisto.SetLineStyle(9); METSoverWjets.SetLineStyle(8)\n",
    "    Z1Histo.SetLineStyle(6)#; ZAsimovHisto.SetLineStyle(2)\n",
    "    WjetsMETEffHisto.SetLineWidth(2); SignalMETEffHisto.SetLineWidth(1); METSoverWjets.SetLineWidth(2)\n",
    "    #Z1Histo.SetLineWidth(3); ZAsimovHisto.SetLineWidth(3)\n",
    "    WjetsMETEffHisto.SetLineColor(ROOT.kRed); SignalMETEffHisto.SetLineColor(ROOT.kGreen+1); METSoverWjets.SetLineColor(ROOT.kBlack)\n",
    "    Z1Histo.SetLineColor(ROOT.kBlue)#; ZAsimovHisto.SetLineColor(ROOT.kOrange)\n",
    "    #Z1Histo.SetFillColor(ROOT.kBlue); ZAsimovHisto.SetFillColor(ROOT.kOrange)\n",
    "    #Z1Histo.SetFillStyle(3004); ZAsimovHisto.SetFillStyle(3005)\n",
    "    ############################\n",
    "    SHisto.SetStats(ROOT.kFALSE)\n",
    "    SHisto.SetLineStyle(1); BHisto.SetLineStyle(2)\n",
    "    SHisto.SetLineWidth(2); BHisto.SetLineWidth(1)\n",
    "    SHisto.SetLineColor(ROOT.kGreen); BHisto.SetLineColor(ROOT.kRed)\n",
    "    \n",
    "    #Setting legend\n",
    "    LEG=ROOT.TLegend(0.6,0.6,0.9,0.9)\n",
    "    LEG.AddEntry(WjetsMETEffHisto, \"#varepsilon(W+jets)\", \"l\")\n",
    "    LEG.AddEntry(ROOT.TObject(), GetMR(WjetsMETEffHisto), \"\")\n",
    "    LEG.AddEntry(ROOT.TObject(), GetEWI(WjetsMETEffHisto), \"\")\n",
    "    LEG.AddEntry(SignalMETEffHisto, \"#varepsilon(S)\", \"l\")\n",
    "    LEG.AddEntry(ROOT.TObject(), GetMR(SignalMETEffHisto), \"\")\n",
    "    LEG.AddEntry(ROOT.TObject(), GetEWI(SignalMETEffHisto), \"\")\n",
    "    LEG.AddEntry(METSoverWjets, \"#varepsilon(S)/#varepsilon(W+jets)\", \"l\")\n",
    "    #LEG.AddEntry(ROOT.TObject(), GetMR(METSoverZvv), \"\")\n",
    "    #LEG.AddEntry(ROOT.TObject(), GetEWI(METSoverZvv), \"\")\n",
    "    LEG.AddEntry(Z1Histo, \"s/#sqrt{b}\", \"l\")\n",
    "    #LEG.AddEntry(ZAsimovHisto, \"Asimov\", \"l\")\n",
    "    LEG.SetFillColor(0)\n",
    "    \n",
    "    #Setting legend for signal and background histos\n",
    "    LEGSB=ROOT.TLegend(0.6,0.6,0.9,0.9)\n",
    "    LEGSB.AddEntry(SHisto, \"S\", \"l\")\n",
    "    LEGSB.AddEntry(ROOT.TObject(), GetMR(SHisto), \"\")\n",
    "    LEGSB.AddEntry(ROOT.TObject(), GetEWI(SHisto), \"\")\n",
    "    LEGSB.AddEntry(BHisto, \"Wjets\", \"l\")\n",
    "    LEGSB.AddEntry(ROOT.TObject(), GetMR(BHisto), \"\")\n",
    "    LEGSB.AddEntry(ROOT.TObject(), GetEWI(BHisto), \"\")\n",
    "    LEGSB.SetFillColor(0)\n",
    "    \n",
    "    #Setting maximal value of first plotted histogram\n",
    "    Maxima=[WjetsMETEffHisto.GetMaximum(), SignalMETEffHisto.GetMaximum(), METSoverWjets.GetMaximum(),\n",
    "            Z1Histo.GetMaximum()]#, ZAsimovHisto.GetMaximum()]\n",
    "    WjetsMETEffHisto.SetMaximum(1.05*max(Maxima))\n",
    "    \n",
    "    #Setting maximal value of first plotted histogram\n",
    "    MaximaSB=[SHisto.GetMaximum(), BHisto.GetMaximum()]\n",
    "    SHisto.SetMaximum(1.05*max(MaximaSB))\n",
    "    \n",
    "    #Setting axis titles\n",
    "    MinX=float(VariablesToCut[Var][3].split(\",\")[1])\n",
    "    MaxX=float(VariablesToCut[Var][3].split(\",\")[-1][0:-1])\n",
    "    Nbins=int(VariablesToCut[Var][3].split(\",\")[0][1:])\n",
    "    WjetsMETEffHisto.SetTitle(\";\"+XVariableAxis[i]+\";A.U./{0:.2f} \".format((MaxX-MinX)/Nbins)+\"GeV\")\n",
    "    WjetsMETEffHisto.GetYaxis().SetTitleOffset(1.4)\n",
    "    \n",
    "    #Setting axis titles\n",
    "    SHisto.SetTitle(\";\"+XVariableAxis[i]+\";A.U./{0:.2f} \".format((MaxX-MinX)/Nbins)+\"GeV\")\n",
    "    SHisto.GetYaxis().SetTitleOffset(1.4)\n",
    "    \n",
    "    #.GetXaxis().SetRangeUser(0,20)\n",
    "    #.GetYaxis().SetRangeUser(0.1,6)\n",
    "    #ROOT.gPad.SetLogy()\n",
    "    \n",
    "    #Plotting\n",
    "    WjetsMETEffHisto.Draw(\"hist e\"); SignalMETEffHisto.Draw(\"hist e same\");\n",
    "    METSoverWjets.Draw(\"E0 same\")\n",
    "    Z1Histo.Draw(\"E1 same\")\n",
    "    #ZAsimovHisto.Draw(\"E1 same\")\n",
    "    LEG.Draw()\n",
    "    \n",
    "    #if i==0:\n",
    "    #    CurCanvScan.Print(PDFNames+\".pdf(\",\"Title:\"+XVariableName[i])        \n",
    "    ###elif i==len(VariablesToCut)-1:\n",
    "    ###    CurCanvScan.Print(PDFNames+\".pdf)\",\"Title:\"+XVariableName[i])\n",
    "    #else:\n",
    "    #    CurCanvScan.Print(PDFNames+\".pdf\",\"Title:\"+XVariableName[i])\n",
    "    #    \n",
    "    ##Plotting\n",
    "    #SHisto.Draw(\"hist e\"); BHisto.Draw(\"hist e same\")\n",
    "    #LEGSB.Draw()\n",
    "    #\n",
    "    #if i==len(VariablesToCut)-1:\n",
    "    #    CurCanvScan.Print(PDFNames+\".pdf)\",\"Title:\"+XVariableName[i])\n",
    "    #else:\n",
    "    #    CurCanvScan.Print(PDFNames+\".pdf\",\"Title:\"+XVariableName[i])\n",
    "    \n",
    "    WjetsMETEffHisto.Write(); SignalMETEffHisto.Write(); METSoverWjets.Write(); Z1Histo.Write()#; ZAsimovHisto.Write()\n",
    "    SHisto.Write(); BHisto.Write(); Z3Histo.Write(); Z4Histo.Write()\n",
    "\n",
    "EffFile.Close()"
   ]
  },
  {
   "cell_type": "code",
   "execution_count": null,
   "metadata": {
    "collapsed": true
   },
   "outputs": [],
   "source": [
    "h = ROOT.TH1F(\"TracksPt\",\"Tracks;Pt [GeV/c];#\",128,0,64)\n",
    "for event in f.events:\n",
    "    for track in event.tracks:\n",
    "        h.Fill(track.Pt())\n",
    "c = ROOT.TCanvas()\n",
    "h.Draw()\n",
    "c.Draw()"
   ]
  },
  {
   "cell_type": "code",
   "execution_count": null,
   "metadata": {
    "collapsed": true
   },
   "outputs": [],
   "source": []
  },
  {
   "cell_type": "code",
   "execution_count": null,
   "metadata": {
    "collapsed": true
   },
   "outputs": [],
   "source": []
  }
 ],
 "metadata": {
  "kernelspec": {
   "display_name": "Python 2",
   "language": "python",
   "name": "python2"
  },
  "language_info": {
   "codemirror_mode": {
    "name": "ipython",
    "version": 2
   },
   "file_extension": ".py",
   "mimetype": "text/x-python",
   "name": "python",
   "nbconvert_exporter": "python",
   "pygments_lexer": "ipython2",
   "version": "2.7.13"
  }
 },
 "nbformat": 4,
 "nbformat_minor": 1
}
